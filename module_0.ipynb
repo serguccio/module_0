{
 "cells": [
  {
   "cell_type": "markdown",
   "metadata": {},
   "source": [
    "# Программа рассчитывает среднее количество попыток по угадыванию числа от 1 до 100 при применении алгоритма пользователя\n"
   ]
  },
  {
   "cell_type": "code",
   "execution_count": 4,
   "metadata": {},
   "outputs": [
    {
     "name": "stdout",
     "output_type": "stream",
     "text": [
      "Ваш алгоритм угадывает число в среднем за 5 попыток\n"
     ]
    }
   ],
   "source": [
    "import numpy as np\n",
    "\n",
    "\n",
    "def game_core_v3(number):\n",
    "    \"\"\"Сначала устанавливаем число посредине интервала - 50, чтобы в 2 раза сузить\n",
    "    интервал поиска, а потом уменьшаем или увеличиваем его в зависимости от того,\n",
    "    больше оно или меньше нужного. Функция принимает загаданное число и возвращает \n",
    "    число попыток.\"\"\"\n",
    "    count = 1\n",
    "    max_predict = 101\n",
    "    min_predict = 0\n",
    "    predict = 50\n",
    "\n",
    "    # При каждом неугадывании сужаем круг поиска чисел до интервала\n",
    "    # (наибольший вариант меньше искомого, наименьший вариант больше искомого).\n",
    "    while number != predict:\n",
    "        count += 1\n",
    "        if number > predict:\n",
    "            min_predict = predict\n",
    "            predict = (max_predict + predict) // 2\n",
    "        else:\n",
    "            max_predict = predict\n",
    "            predict = (min_predict + predict) // 2\n",
    "\n",
    "    return count  # выход из цикла, если угадали\n",
    "\n",
    "\n",
    "def score_game(game_core):\n",
    "    \"\"\"Запускаем игру 1000 раз, чтобы узнать, как быстро игра угадывает число\"\"\"\n",
    "    count_ls = []\n",
    "    # Фиксируем random seed, чтобы эксперимент был воспроизводим\n",
    "    np.random.seed(1)\n",
    "    # Создаем список random_array из 1000 чисел от 1 до 100 для угадывания\n",
    "    random_array = np.random.randint(1, 101, size=1000)\n",
    "\n",
    "    # Создаем список count_ls, состоящий из количества попыток угадывания\n",
    "    for number in random_array:\n",
    "        count_ls.append(game_core(number))\n",
    "\n",
    "    # Определяем среднее количество попыток до момента угадывания\n",
    "    score = int(np.mean(count_ls))\n",
    "    print(f\"Ваш алгоритм угадывает число в среднем за {score} попыток\")\n",
    "    return\n",
    "\n",
    "\n",
    "score_game(game_core_v3)"
   ]
  }
 ],
 "metadata": {
  "kernelspec": {
   "display_name": "Python 3",
   "language": "python",
   "name": "python3"
  },
  "language_info": {
   "codemirror_mode": {
    "name": "ipython",
    "version": 3
   },
   "file_extension": ".py",
   "mimetype": "text/x-python",
   "name": "python",
   "nbconvert_exporter": "python",
   "pygments_lexer": "ipython3",
   "version": "3.7.6"
  }
 },
 "nbformat": 4,
 "nbformat_minor": 4
}
